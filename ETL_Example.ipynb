{
 "cells": [
  {
   "cell_type": "code",
   "execution_count": 5,
   "id": "49e1d50c",
   "metadata": {},
   "outputs": [],
   "source": [
    "import csv\n",
    "\n",
    "with open('California_Wildland_Fire_Perimeters.csv', encoding='utf-8') as f:\n",
    "    fire_reader = csv.reader(f)\n",
    "    fire_data = list(fire_reader)\n",
    "    \n",
    "with open('USDM-california.csv', encoding='utf-8') as f:\n",
    "    draught_reader = csv.reader(f)\n",
    "    draught_data = list(draught_reader)"
   ]
  },
  {
   "cell_type": "code",
   "execution_count": 9,
   "id": "cde41e26",
   "metadata": {},
   "outputs": [
    {
     "name": "stdout",
     "output_type": "stream",
     "text": [
      "['21440', '2020', 'CA', 'CDF', 'NEU', 'NELSON', '00013212', '2020/06/18 00:00:00+00', '2020/06/23 00:00:00+00', '11', '', '110', '109.60227966', '1', '1', '', '733134.69847985', '4179.74314207098']\n"
     ]
    }
   ],
   "source": [
    "print(fire_data[1])"
   ]
  },
  {
   "cell_type": "code",
   "execution_count": 10,
   "id": "fe7a5bfd",
   "metadata": {},
   "outputs": [
    {
     "name": "stdout",
     "output_type": "stream",
     "text": [
      "['20220607', 'CA', '0.00', '100.00', '99.79', '97.48', '59.81', '11.59', '2022-06-07', '2022-06-13', '1']\n"
     ]
    }
   ],
   "source": [
    "print(draught_data[1])"
   ]
  },
  {
   "cell_type": "code",
   "execution_count": null,
   "id": "cf0bc924",
   "metadata": {},
   "outputs": [],
   "source": []
  }
 ],
 "metadata": {
  "kernelspec": {
   "display_name": "Python 3 (ipykernel)",
   "language": "python",
   "name": "python3"
  },
  "language_info": {
   "codemirror_mode": {
    "name": "ipython",
    "version": 3
   },
   "file_extension": ".py",
   "mimetype": "text/x-python",
   "name": "python",
   "nbconvert_exporter": "python",
   "pygments_lexer": "ipython3",
   "version": "3.9.7"
  }
 },
 "nbformat": 4,
 "nbformat_minor": 5
}
